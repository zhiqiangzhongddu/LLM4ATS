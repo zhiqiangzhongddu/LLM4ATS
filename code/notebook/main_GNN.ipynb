{
 "cells": [
  {
   "cell_type": "code",
   "id": "initial_id",
   "metadata": {
    "collapsed": true,
    "ExecuteTime": {
     "end_time": "2024-10-24T18:24:53.034094Z",
     "start_time": "2024-10-24T18:24:51.048014Z"
    }
   },
   "source": [
    "from code.gnns.gnn_runner import GNNRunner\n",
    "from code.utils import set_seed\n",
    "from code.config import cfg, update_cfg"
   ],
   "outputs": [],
   "execution_count": 1
  },
  {
   "metadata": {
    "ExecuteTime": {
     "end_time": "2024-10-24T18:24:53.278637Z",
     "start_time": "2024-10-24T18:24:53.119160Z"
    }
   },
   "cell_type": "code",
   "source": "set_seed(cfg.seed)",
   "id": "2a9a573090692fa3",
   "outputs": [],
   "execution_count": 2
  },
  {
   "metadata": {
    "ExecuteTime": {
     "end_time": "2024-10-24T18:24:53.492276Z",
     "start_time": "2024-10-24T18:24:53.444490Z"
    }
   },
   "cell_type": "code",
   "source": "gnn_runner = GNNRunner(cfg=cfg)",
   "id": "9631a93b1dc3025c",
   "outputs": [
    {
     "name": "stdout",
     "output_type": "stream",
     "text": [
      "Num. of parameters: 496005\n"
     ]
    }
   ],
   "execution_count": 3
  },
  {
   "metadata": {
    "ExecuteTime": {
     "end_time": "2024-10-24T18:29:01.193090Z",
     "start_time": "2024-10-24T18:29:01.189153Z"
    }
   },
   "cell_type": "code",
   "source": "gnn_runner.dataset",
   "id": "ba87902828fd007e",
   "outputs": [
    {
     "data": {
      "text/plain": [
       "PygGraphPropPredDataset(2039)"
      ]
     },
     "execution_count": 11,
     "metadata": {},
     "output_type": "execute_result"
    }
   ],
   "execution_count": 11
  },
  {
   "metadata": {},
   "cell_type": "code",
   "outputs": [],
   "execution_count": null,
   "source": "",
   "id": "37b8c78e0029753a"
  }
 ],
 "metadata": {
  "kernelspec": {
   "display_name": "Python 3",
   "language": "python",
   "name": "python3"
  },
  "language_info": {
   "codemirror_mode": {
    "name": "ipython",
    "version": 2
   },
   "file_extension": ".py",
   "mimetype": "text/x-python",
   "name": "python",
   "nbconvert_exporter": "python",
   "pygments_lexer": "ipython2",
   "version": "2.7.6"
  }
 },
 "nbformat": 4,
 "nbformat_minor": 5
}
